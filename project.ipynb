{
  "cells": [
    {
      "cell_type": "markdown",
      "metadata": {},
      "source": [
        "# Custom Chatbot\n",
        "\n",
        "using openAI API and customizing the prompt to make it answer from a knowledge bank"
      ]
    },
    {
      "cell_type": "code",
      "execution_count": 10,
      "metadata": {
        "id": "lhlBZH-p6ms1"
      },
      "outputs": [],
      "source": [
        "import openai\n",
        "import pandas as pd\n",
        "import tiktoken"
      ]
    },
    {
      "cell_type": "code",
      "execution_count": 17,
      "metadata": {
        "id": "seShfw5-6o8d"
      },
      "outputs": [],
      "source": [
        "from openai import OpenAI\n",
        "client = OpenAI(\n",
        "    base_url = \"https://openai.vocareum.com/v1\",\n",
        "    api_key = \"api-key\"\n",
        ")"
      ]
    },
    {
      "cell_type": "code",
      "execution_count": 18,
      "metadata": {
        "colab": {
          "base_uri": "https://localhost:8080/",
          "height": 206
        },
        "id": "Ec6BNgO664S5",
        "outputId": "6d23d195-62d2-4867-9c85-eedaf917e5e5"
      },
      "outputs": [
        {
          "data": {
            "text/html": [
              "<div>\n",
              "<style scoped>\n",
              "    .dataframe tbody tr th:only-of-type {\n",
              "        vertical-align: middle;\n",
              "    }\n",
              "\n",
              "    .dataframe tbody tr th {\n",
              "        vertical-align: top;\n",
              "    }\n",
              "\n",
              "    .dataframe thead th {\n",
              "        text-align: right;\n",
              "    }\n",
              "</style>\n",
              "<table border=\"1\" class=\"dataframe\">\n",
              "  <thead>\n",
              "    <tr style=\"text-align: right;\">\n",
              "      <th></th>\n",
              "      <th>URL</th>\n",
              "      <th>Trends</th>\n",
              "      <th>Source</th>\n",
              "    </tr>\n",
              "  </thead>\n",
              "  <tbody>\n",
              "    <tr>\n",
              "      <th>0</th>\n",
              "      <td>https://www.refinery29.com/en-us/fashion-trend...</td>\n",
              "      <td>2023 Fashion Trend: Red. Glossy red hues took ...</td>\n",
              "      <td>7 Fashion Trends That Will Take Over 2023 — Sh...</td>\n",
              "    </tr>\n",
              "    <tr>\n",
              "      <th>1</th>\n",
              "      <td>https://www.refinery29.com/en-us/fashion-trend...</td>\n",
              "      <td>2023 Fashion Trend: Cargo Pants. Utilitarian w...</td>\n",
              "      <td>7 Fashion Trends That Will Take Over 2023 — Sh...</td>\n",
              "    </tr>\n",
              "    <tr>\n",
              "      <th>2</th>\n",
              "      <td>https://www.refinery29.com/en-us/fashion-trend...</td>\n",
              "      <td>2023 Fashion Trend: Sheer Clothing. \"Bare it a...</td>\n",
              "      <td>7 Fashion Trends That Will Take Over 2023 — Sh...</td>\n",
              "    </tr>\n",
              "    <tr>\n",
              "      <th>3</th>\n",
              "      <td>https://www.refinery29.com/en-us/fashion-trend...</td>\n",
              "      <td>2023 Fashion Trend: Denim Reimagined. From dou...</td>\n",
              "      <td>7 Fashion Trends That Will Take Over 2023 — Sh...</td>\n",
              "    </tr>\n",
              "    <tr>\n",
              "      <th>4</th>\n",
              "      <td>https://www.refinery29.com/en-us/fashion-trend...</td>\n",
              "      <td>2023 Fashion Trend: Shine For The Daytime. The...</td>\n",
              "      <td>7 Fashion Trends That Will Take Over 2023 — Sh...</td>\n",
              "    </tr>\n",
              "  </tbody>\n",
              "</table>\n",
              "</div>"
            ],
            "text/plain": [
              "                                                 URL  \\\n",
              "0  https://www.refinery29.com/en-us/fashion-trend...   \n",
              "1  https://www.refinery29.com/en-us/fashion-trend...   \n",
              "2  https://www.refinery29.com/en-us/fashion-trend...   \n",
              "3  https://www.refinery29.com/en-us/fashion-trend...   \n",
              "4  https://www.refinery29.com/en-us/fashion-trend...   \n",
              "\n",
              "                                              Trends  \\\n",
              "0  2023 Fashion Trend: Red. Glossy red hues took ...   \n",
              "1  2023 Fashion Trend: Cargo Pants. Utilitarian w...   \n",
              "2  2023 Fashion Trend: Sheer Clothing. \"Bare it a...   \n",
              "3  2023 Fashion Trend: Denim Reimagined. From dou...   \n",
              "4  2023 Fashion Trend: Shine For The Daytime. The...   \n",
              "\n",
              "                                              Source  \n",
              "0  7 Fashion Trends That Will Take Over 2023 — Sh...  \n",
              "1  7 Fashion Trends That Will Take Over 2023 — Sh...  \n",
              "2  7 Fashion Trends That Will Take Over 2023 — Sh...  \n",
              "3  7 Fashion Trends That Will Take Over 2023 — Sh...  \n",
              "4  7 Fashion Trends That Will Take Over 2023 — Sh...  "
            ]
          },
          "execution_count": 18,
          "metadata": {},
          "output_type": "execute_result"
        }
      ],
      "source": [
        "fashion = pd.read_csv(\"data/2023_fashion_trends.csv\")\n",
        "\n",
        "fashion.head()"
      ]
    },
    {
      "cell_type": "code",
      "execution_count": 19,
      "metadata": {
        "colab": {
          "base_uri": "https://localhost:8080/",
          "height": 206
        },
        "id": "ZPNMTSuR7Ily",
        "outputId": "35955384-22ef-4936-a912-ff7f7b472d63"
      },
      "outputs": [
        {
          "data": {
            "text/html": [
              "<div>\n",
              "<style scoped>\n",
              "    .dataframe tbody tr th:only-of-type {\n",
              "        vertical-align: middle;\n",
              "    }\n",
              "\n",
              "    .dataframe tbody tr th {\n",
              "        vertical-align: top;\n",
              "    }\n",
              "\n",
              "    .dataframe thead th {\n",
              "        text-align: right;\n",
              "    }\n",
              "</style>\n",
              "<table border=\"1\" class=\"dataframe\">\n",
              "  <thead>\n",
              "    <tr style=\"text-align: right;\">\n",
              "      <th></th>\n",
              "      <th>URL</th>\n",
              "      <th>text</th>\n",
              "      <th>Source</th>\n",
              "    </tr>\n",
              "  </thead>\n",
              "  <tbody>\n",
              "    <tr>\n",
              "      <th>0</th>\n",
              "      <td>https://www.refinery29.com/en-us/fashion-trend...</td>\n",
              "      <td>2023 Fashion Trend: Red. Glossy red hues took ...</td>\n",
              "      <td>7 Fashion Trends That Will Take Over 2023 — Sh...</td>\n",
              "    </tr>\n",
              "    <tr>\n",
              "      <th>1</th>\n",
              "      <td>https://www.refinery29.com/en-us/fashion-trend...</td>\n",
              "      <td>2023 Fashion Trend: Cargo Pants. Utilitarian w...</td>\n",
              "      <td>7 Fashion Trends That Will Take Over 2023 — Sh...</td>\n",
              "    </tr>\n",
              "    <tr>\n",
              "      <th>2</th>\n",
              "      <td>https://www.refinery29.com/en-us/fashion-trend...</td>\n",
              "      <td>2023 Fashion Trend: Sheer Clothing. \"Bare it a...</td>\n",
              "      <td>7 Fashion Trends That Will Take Over 2023 — Sh...</td>\n",
              "    </tr>\n",
              "    <tr>\n",
              "      <th>3</th>\n",
              "      <td>https://www.refinery29.com/en-us/fashion-trend...</td>\n",
              "      <td>2023 Fashion Trend: Denim Reimagined. From dou...</td>\n",
              "      <td>7 Fashion Trends That Will Take Over 2023 — Sh...</td>\n",
              "    </tr>\n",
              "    <tr>\n",
              "      <th>4</th>\n",
              "      <td>https://www.refinery29.com/en-us/fashion-trend...</td>\n",
              "      <td>2023 Fashion Trend: Shine For The Daytime. The...</td>\n",
              "      <td>7 Fashion Trends That Will Take Over 2023 — Sh...</td>\n",
              "    </tr>\n",
              "  </tbody>\n",
              "</table>\n",
              "</div>"
            ],
            "text/plain": [
              "                                                 URL  \\\n",
              "0  https://www.refinery29.com/en-us/fashion-trend...   \n",
              "1  https://www.refinery29.com/en-us/fashion-trend...   \n",
              "2  https://www.refinery29.com/en-us/fashion-trend...   \n",
              "3  https://www.refinery29.com/en-us/fashion-trend...   \n",
              "4  https://www.refinery29.com/en-us/fashion-trend...   \n",
              "\n",
              "                                                text  \\\n",
              "0  2023 Fashion Trend: Red. Glossy red hues took ...   \n",
              "1  2023 Fashion Trend: Cargo Pants. Utilitarian w...   \n",
              "2  2023 Fashion Trend: Sheer Clothing. \"Bare it a...   \n",
              "3  2023 Fashion Trend: Denim Reimagined. From dou...   \n",
              "4  2023 Fashion Trend: Shine For The Daytime. The...   \n",
              "\n",
              "                                              Source  \n",
              "0  7 Fashion Trends That Will Take Over 2023 — Sh...  \n",
              "1  7 Fashion Trends That Will Take Over 2023 — Sh...  \n",
              "2  7 Fashion Trends That Will Take Over 2023 — Sh...  \n",
              "3  7 Fashion Trends That Will Take Over 2023 — Sh...  \n",
              "4  7 Fashion Trends That Will Take Over 2023 — Sh...  "
            ]
          },
          "execution_count": 19,
          "metadata": {},
          "output_type": "execute_result"
        }
      ],
      "source": [
        "fashion = fashion.rename({\"Trends\": \"text\"}, axis = 1)\n",
        "\n",
        "fashion.head()"
      ]
    },
    {
      "cell_type": "markdown",
      "metadata": {
        "id": "zfem-MXFDdOA"
      },
      "source": [
        "#Custom Query Completion\n",
        "TODO: In the cells below, compose a custom query using your chosen dataset and retrieve results from an OpenAI Completion model. You may copy and paste any useful code from the course materials."
      ]
    },
    {
      "cell_type": "code",
      "execution_count": 20,
      "metadata": {
        "id": "z3MSG2QT7OLU"
      },
      "outputs": [],
      "source": [
        "def get_answer(prompt):\n",
        "  response = client.chat.completions.create(\n",
        "    model=\"gpt-4o-mini\",\n",
        "    messages=[\n",
        "      {\"role\": \"system\", \"content\": \"You are a helpful assistant.\"},\n",
        "      {\"role\": \"user\", \"content\": prompt}\n",
        "    ]\n",
        "\n",
        "  )\n",
        "\n",
        "  answer = response.choices[0].message.content\n",
        "  return answer"
      ]
    },
    {
      "cell_type": "code",
      "execution_count": 21,
      "metadata": {
        "id": "nVQ8b1e47RWI"
      },
      "outputs": [],
      "source": [
        "tokenizer = tiktoken.get_encoding(\"cl100k_base\")\n",
        "token_limit = 1000\n",
        "\n",
        "def get_prompt(question):\n",
        "  prompt_template = \"\"\"\n",
        "  Answer the question based on the context below, and if the\n",
        "  question can't be answered based on the context, say\n",
        "  \"I don't know\"\n",
        "\n",
        "  Context:\n",
        "\n",
        "  {}\n",
        "\n",
        "  ---\n",
        "\n",
        "  Question: {}\n",
        "  Answer:\"\"\"\n",
        "  token_count = len(tokenizer.encode(prompt_template)) + \\\n",
        "                          len(tokenizer.encode(question))\n",
        "\n",
        "  # Create a list to store text for context\n",
        "  context_list = []\n",
        "\n",
        "  # Loop over rows of the sorted dataframe\n",
        "  for text in fashion[\"text\"].values:\n",
        "      # Append text to context_list if there is enough room\n",
        "      token_count += len(tokenizer.encode(text))\n",
        "      if token_count <= token_limit:\n",
        "          context_list.append(text)\n",
        "      else:\n",
        "          # Break once we're over the token limit\n",
        "          break\n",
        "\n",
        "  prompt = prompt_template.format(\n",
        "    \"\\n\\n###\\n\\n\".join(context_list),\n",
        "    question\n",
        "    )\n",
        "\n",
        "  return prompt"
      ]
    },
    {
      "cell_type": "markdown",
      "metadata": {
        "id": "QD092ue8B-Hk"
      },
      "source": [
        "#Custom Performance Demonstration\n",
        "TODO: In the cells below, demonstrate the performance of your custom query using at least 2 questions. For each question, show the answer from a basic Completion model query as well as the answer from your custom query."
      ]
    },
    {
      "cell_type": "markdown",
      "metadata": {
        "id": "PzpKbto6C1cm"
      },
      "source": [
        "# Question 1"
      ]
    },
    {
      "cell_type": "markdown",
      "metadata": {
        "id": "gXqetJPoCqZh"
      },
      "source": [
        "## Answer without context:"
      ]
    },
    {
      "cell_type": "code",
      "execution_count": 30,
      "metadata": {
        "colab": {
          "base_uri": "https://localhost:8080/"
        },
        "id": "53lpLRqRCky8",
        "outputId": "6b51215e-d10f-494c-d1fd-6bc7494227b7"
      },
      "outputs": [
        {
          "name": "stdout",
          "output_type": "stream",
          "text": [
            "In 2023, fashion color trends reflected a mix of bold, vibrant hues and softer, more muted tones, catering to a wide range of personal styles and preferences. Here are some notable color trends from 2023:\n",
            "\n",
            "1. **Vibrant and Bold Colors**: Bright, saturated colors like electric blue, vivid red, and bright orange were prominent, bringing energy and optimism to wardrobes.\n",
            "\n",
            "2. **Pastels**: Soft pastels continued to be popular, with colors like mint green, lavender, and baby blue providing a gentle, refreshing palette that is both calming and stylish.\n",
            "\n",
            "3. **Earthy Tones**: Rich, earthy colors such as terracotta, ochre, and moss green gained traction, reflecting a growing interest in sustainability and nature-inspired aesthetics.\n",
            "\n",
            "4. **Neutrals**: Classic neutral shades, including beige, cream, and taupe, remained essential, offering versatility and a timeless appeal while serving as a backdrop for bolder accessories and pieces.\n",
            "\n",
            "5. **Deep Jewel Tones**: Colors like emerald green, sapphire blue, and deep burgundy added luxurious flair to outfits, perfect for evening wear and transitional seasons.\n",
            "\n",
            "6. **Shimmer and Metallics**: Metallic shades and shimmery finishes were popular, adding a touch of glamour and playfulness, often seen in evening wear and accessories.\n",
            "\n",
            "7. **Color Blocking**: This trend continued with the pairing of contrasting colors, encouraging playful combinations that make a bold statement.\n",
            "\n",
            "Overall, the color trends in 2023 encouraged individuals to express themselves through a variety of shades, whether through eye-catching, bold colors or subtle, serene palettes.\n"
          ]
        }
      ],
      "source": [
        "answer = get_answer(\"what are fashion color trends in 2023?\")\n",
        "print(answer)"
      ]
    },
    {
      "cell_type": "markdown",
      "metadata": {
        "id": "n77dHHlxCtYW"
      },
      "source": [
        "## Answer with context:"
      ]
    },
    {
      "cell_type": "code",
      "execution_count": 31,
      "metadata": {
        "colab": {
          "base_uri": "https://localhost:8080/"
        },
        "id": "ieIha9XdBVOv",
        "outputId": "220ba52a-4501-4d63-9124-11797167cee4"
      },
      "outputs": [
        {
          "name": "stdout",
          "output_type": "stream",
          "text": [
            "The fashion color trends in 2023 include glossy red hues, cobalt blue, and vibrant colors paired with Pantone's Viva Magenta. Red is showcased in head-to-toe looks and accent accessory pieces, while cobalt blue is noted for its freshness and versatility in daily wear.\n"
          ]
        }
      ],
      "source": [
        "prompt = get_prompt(\"what are fashion color trends in 2023?\")\n",
        "answer = get_answer(prompt)\n",
        "print(answer)"
      ]
    },
    {
      "cell_type": "markdown",
      "metadata": {
        "id": "pd8HaM6nBL8n"
      },
      "source": [
        "There is an obvious in the answer, we can also ask it a question out of context and see what it going to say, we expect it to say I don't know"
      ]
    },
    {
      "cell_type": "markdown",
      "metadata": {
        "id": "scpD28DtC5DV"
      },
      "source": [
        "# Question 2"
      ]
    },
    {
      "cell_type": "markdown",
      "metadata": {
        "id": "xVjJceU-C-vg"
      },
      "source": [
        "## Answer without context:"
      ]
    },
    {
      "cell_type": "code",
      "execution_count": 27,
      "metadata": {
        "colab": {
          "base_uri": "https://localhost:8080/"
        },
        "id": "1Kkf1HRuC6lE",
        "outputId": "5cbdf212-b554-4d7b-c89a-06f274f38a6b"
      },
      "outputs": [
        {
          "name": "stdout",
          "output_type": "stream",
          "text": [
            "While I don't have the ability to predict the future, I can give you insights based on recent trends and emerging patterns in design and fashion that have been observed leading into 2024. Color trends often reflect broader social, cultural, and technological influences.\n",
            "\n",
            "Here are some anticipated color trends for 2024:\n",
            "\n",
            "1. **Earth Tones**: There has been a continued interest in earthy colors that evoke a sense of nature and sustainability. Hues like terracotta, moss green, and warm browns are expected to remain popular.\n",
            "\n",
            "2. **Vibrant and Bold Colors**: Colors that are bright and energetic may make a comeback, especially as people seek to express individuality and optimism. Think bold reds, bright blues, and vivid yellows.\n",
            "\n",
            "3. **Soft Pastels**: Softer shades like blush pink, lavender, and mint green are likely to continue being popular, providing a calm and soothing aesthetic.\n",
            "\n",
            "4. **Neutrals with a Twist**: Classic neutrals like beige, gray, and white remain in style but may be mixed with unexpected accents or textures to give them a fresh look.\n",
            "\n",
            "5. **Tech-Inspired Colors**: Colors inspired by technology, such as metallics or iridescent shades, may gain traction, especially in fashion and interior design.\n",
            "\n",
            "6. **Jewel Tones**: Rich, deep colors like emerald, sapphire, and garnet can add elegance and are often seen in fall and winter collections.\n",
            "\n",
            "7. **Color Blocking**: This technique may continue with bold contrasts, mixing unexpected colors for a lively composition.\n",
            "\n",
            "8. **Warm Neutrals**: Shades like warm taupe and sandy beige may become popular as they create a cozy and inviting atmosphere.\n",
            "\n",
            "Keep in mind that color trends can vary significantly across industries (fashion, interior design, graphic design, etc.) and regions. Designers often align with current societal sentiments, so observing cultural shifts can also provide clues to the colors that will dominate in 2024.\n"
          ]
        }
      ],
      "source": [
        "answer = get_answer(\"what are color trends in 2024?\")\n",
        "print(answer)"
      ]
    },
    {
      "cell_type": "markdown",
      "metadata": {
        "id": "C7BF5sSvDCMj"
      },
      "source": [
        "# Answer with context:"
      ]
    },
    {
      "cell_type": "code",
      "execution_count": 28,
      "metadata": {
        "colab": {
          "base_uri": "https://localhost:8080/"
        },
        "id": "sseyZizZC91G",
        "outputId": "8755b74f-c45b-4646-9c55-7d1806a74d0e"
      },
      "outputs": [
        {
          "name": "stdout",
          "output_type": "stream",
          "text": [
            "I don't know.\n"
          ]
        }
      ],
      "source": [
        "prompt = get_prompt(\"what are the fashion trends in 2024?\")\n",
        "answer = get_answer(prompt)\n",
        "print(answer)"
      ]
    },
    {
      "cell_type": "markdown",
      "metadata": {
        "id": "p5VkvygKDJm0"
      },
      "source": [
        "It answers correctly with i don't know as the data doesn't have this information, this means that it was correctly according to the context."
      ]
    }
  ],
  "metadata": {
    "colab": {
      "provenance": []
    },
    "kernelspec": {
      "display_name": "Python 3",
      "name": "python3"
    },
    "language_info": {
      "codemirror_mode": {
        "name": "ipython",
        "version": 3
      },
      "file_extension": ".py",
      "mimetype": "text/x-python",
      "name": "python",
      "nbconvert_exporter": "python",
      "pygments_lexer": "ipython3",
      "version": "3.12.4"
    }
  },
  "nbformat": 4,
  "nbformat_minor": 0
}
